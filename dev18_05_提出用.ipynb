{
 "cells": [
  {
   "cell_type": "markdown",
   "metadata": {},
   "source": [
    "# トレンドレコメンド（仮）"
   ]
  },
  {
   "cell_type": "markdown",
   "metadata": {},
   "source": [
    "## 概要"
   ]
  },
  {
   "cell_type": "markdown",
   "metadata": {},
   "source": [
    "- 世間で話題になっているトレンドを抽出し、トレンドに関連した商品を自動抽出する\n",
    "- 使用したAPI （TwitterAPI, NewsAPI, 楽天API）"
   ]
  },
  {
   "cell_type": "markdown",
   "metadata": {},
   "source": [
    "## 処理の流れ"
   ]
  },
  {
   "cell_type": "markdown",
   "metadata": {},
   "source": [
    "1. 以下のいずれかの方法により、トレンドワードを取得する\n",
    "- GoogleトレンドのWebページをクローリング・スクレイピングし、Google検索で急上昇中のワードを取得する（https://trends.google.co.jp/trends/trendingsearches/realtime?geo=JP&category=all）\n",
    "- TwitterAPIを使用し、Twitterでトレンドになっているワードを取得する\n",
    "- NewsAPIを使用し、国内ニュースでトレンドになっているニュースを取得する（これはワードではなく、ニュース記事を取得）\n",
    "<br>\n",
    "※ 各処理で必要となる処理は関数化済みだが、今回はGoogleトレンドのパターンで実験する\n",
    "\n",
    "\n",
    "2. トレンドワードに関連するニュース記事をNewsAPIを使用して取得する\n",
    "- 1で取得したトレンドワードでニュース記事を検索する\n",
    "- ニュース記事をタイトルと概要を取得する（本文取得はAPIではできない）\n",
    "\n",
    "3. トレンドワードに関連するツイートをTwitterAPIを使用して取得する\n",
    "- 取得したトレンドワードでツイートを検索する\n",
    "\n",
    "4. トレンドワード・ニュース記事（複数）・ツイート（10件）を一つのテキストにまとめる\n",
    "5. 楽天APIを使用し、楽天ブックスで販売する書籍のタイトル・著者・概要を取得する\n",
    "- 一度に楽天APIで取得できる商品数には制限がある為、事前にAPIを一日叩き続けて取得できた10万件近い書籍のデータを使用する\n",
    "- 書籍データはpandasのデータとして保持し、pickleファイル化しておく（実際はDBに保存しておきたい）\n",
    "\n",
    "6. 5で取得した書籍情報（タイトル・著者・概要）を一つのテキストにまとめる\n",
    "\n",
    "7. 4と6をMecabで形態素解析し、名詞だけを取得する\n",
    "\n",
    "8. TFIDFのベクトル化して、トレンドに関連するテキスト（トレンドワード・ニュース記事・ツイート）に一番類似する商品をCOS類似度を算出し求める"
   ]
  },
  {
   "cell_type": "markdown",
   "metadata": {},
   "source": [
    "## 以下、処理内容"
   ]
  },
  {
   "cell_type": "code",
   "execution_count": 1,
   "metadata": {},
   "outputs": [],
   "source": [
    "# 必要なライブラリをインストール（AWSで環境をゼロから作り直す時必要）\n",
    "# !pip install newsapi-python\n",
    "# !pip install twitter\n",
    "# !pip install selenium\n",
    "# !pip install feedparser"
   ]
  },
  {
   "cell_type": "markdown",
   "metadata": {},
   "source": [
    "### 前処理"
   ]
  },
  {
   "cell_type": "code",
   "execution_count": 2,
   "metadata": {},
   "outputs": [],
   "source": [
    "# 各APIで必要なライブラリをインポート\n",
    "from newsapi import NewsApiClient\n",
    "from twitter import *"
   ]
  },
  {
   "cell_type": "code",
   "execution_count": 3,
   "metadata": {},
   "outputs": [],
   "source": [
    "# その他、必要なライブラリをインポート\n",
    "import datetime\n",
    "import re\n",
    "from selenium import webdriver\n",
    "import time\n",
    "import feedparser\n",
    "import random"
   ]
  },
  {
   "cell_type": "code",
   "execution_count": 4,
   "metadata": {},
   "outputs": [
    {
     "data": {
      "text/plain": [
       "['config.ini']"
      ]
     },
     "execution_count": 4,
     "metadata": {},
     "output_type": "execute_result"
    }
   ],
   "source": [
    "# API_KEYの設定ファイルを読み込み\n",
    "# ※ APIを使用する為に必要となるキーとパスをまとめた設定ファイルを別途作成し、それを呼び出している\n",
    "import configparser\n",
    "config = configparser.ConfigParser()\n",
    "config.read('config.ini')"
   ]
  },
  {
   "cell_type": "markdown",
   "metadata": {},
   "source": [
    "### news_api"
   ]
  },
  {
   "cell_type": "code",
   "execution_count": 5,
   "metadata": {},
   "outputs": [],
   "source": [
    "# news_apiから、検索したキーワードに関連するニュース情報を返す関数\n",
    "def keyword_news_search(\\\n",
    "                         api_key = config['NEWS_API']['KEY'],\\\n",
    "                         search_word = '', \\\n",
    "                         start_date = datetime.datetime.now().strftime('%Y-%m-%d'),\\\n",
    "                         end_date = datetime.datetime.now().strftime('%Y-%m-%d'), \\\n",
    "                         sort_type = 'popularity'\\\n",
    "                        ):\n",
    "    \n",
    "    # news_apiを初期化\n",
    "    news_api_search = NewsApiClient(api_key=config['NEWS_API']['KEY'])\n",
    "    \n",
    "    # search_wordで指定したキーワードに関するニュースを検索する\n",
    "    result_search_news = news_api_search.get_everything(qintitle=search_word, from_param=start_date ,to=end_date, sort_by=sort_type)\n",
    "    \n",
    "    return result_search_news"
   ]
  },
  {
   "cell_type": "code",
   "execution_count": 7,
   "metadata": {},
   "outputs": [],
   "source": [
    "# news_apiから、トップニュース情報を返す関数\n",
    "def headlines_news(\\\n",
    "                         api_key = config['NEWS_API']['KEY'],\\\n",
    "                         target_category = 'entertainment', \\\n",
    "                         target_country = 'jp'\n",
    "                        ):\n",
    "    \n",
    "    # news_apiを初期化\n",
    "    news_api_headlines = NewsApiClient(api_key=config['NEWS_API']['KEY'])\n",
    "    \n",
    "    # 指定したオプションに従ったトップニュースを検索する     \n",
    "    # Possible options: business entertainment general health science sports technology . \n",
    "    # Note: you can't mix this param with the sources param.\n",
    "    result_headlines_news = news_api_headlines.get_top_headlines(category=target_category, country=target_country)\n",
    "    \n",
    "    return result_headlines_news"
   ]
  },
  {
   "cell_type": "markdown",
   "metadata": {},
   "source": [
    "### twitter_api"
   ]
  },
  {
   "cell_type": "code",
   "execution_count": 8,
   "metadata": {},
   "outputs": [],
   "source": [
    "# twitter_apiから、ツイートトレンドの単語を返す関数\n",
    "def twitter_trends_search(\\\n",
    "                          CK = config['TWITTER_API']['CONSUMER_KEY'],\\\n",
    "                          CS = config['TWITTER_API']['CONSUMER_SECRET'],\\\n",
    "                          AT = config['TWITTER_API']['ACCESS_TOKEN'],\\\n",
    "                          AS = config['TWITTER_API']['ACCESS_TOKEN_SECRET'],\\\n",
    "                          area_id = 23424856\\\n",
    "                         ):\n",
    "    \n",
    "     # twitter_apiを初期化\n",
    "    twitter_api_trends = Twitter(auth = OAuth(AT,AS,CK,CS))\n",
    "        \n",
    "     # 指定したエリアのツイッタートレンドを検索する\n",
    "    twitter_trends_results = twitter_api_trends.trends.place(_id = area_id)\n",
    "                    \n",
    "    return twitter_trends_results"
   ]
  },
  {
   "cell_type": "code",
   "execution_count": 9,
   "metadata": {},
   "outputs": [],
   "source": [
    "# twitter_apiから、検索したキーワードに関連するツイートを返す関数\n",
    "def twitter_search(\\\n",
    "                          CK = config['TWITTER_API']['CONSUMER_KEY'],\\\n",
    "                          CS = config['TWITTER_API']['CONSUMER_SECRET'],\\\n",
    "                          AT = config['TWITTER_API']['ACCESS_TOKEN'],\\\n",
    "                          AS = config['TWITTER_API']['ACCESS_TOKEN_SECRET'],\\\n",
    "                          search_keyword = 'twitter',\\\n",
    "                          search_lang = 'ja',\\\n",
    "                          search_type = 'mixed',\\\n",
    "                          search_count = 100\\\n",
    "                         ):\n",
    "    \n",
    "     # twitter_apiを初期化\n",
    "    twitter_api_search = Twitter(auth = OAuth(AT,AS,CK,CS))\n",
    "        \n",
    "     # 指定したエリアのツイッタートレンドを検索する\n",
    "    search_results = twitter_api_search.search.tweets(q=search_keyword, lang=search_lang, result_type=search_type, count=search_count)\n",
    "                    \n",
    "    return search_results"
   ]
  },
  {
   "cell_type": "markdown",
   "metadata": {},
   "source": [
    "### Googleトレンド（クローリング・スクレイピング）"
   ]
  },
  {
   "cell_type": "code",
   "execution_count": 10,
   "metadata": {},
   "outputs": [],
   "source": [
    "def google_trends_search(\\\n",
    "                        base_url = 'https://trends.google.co.jp/trends/trendingsearches/realtime',\\\n",
    "                        search_geo = 'JP',\\\n",
    "                        search_category = 'all',\n",
    "                        ):\n",
    "    \n",
    "    # 検索するURLを作成する\n",
    "    url = '{i}?geo={j}&category={k}'.format(i=base_url, j=search_geo, k=search_category)\n",
    "    \n",
    "    # ブラウザを開く\n",
    "    driver = webdriver.Chrome()\n",
    "    \n",
    "    # Googleトレンドの検索TOP画面を開く （表示サイズも指定しておく）\n",
    "    driver.get(url)\n",
    "    driver.set_window_size(2500,1000)\n",
    "    \n",
    "    # 2〜4秒間、ページが開かれるのを待つ\n",
    "    time.sleep(random.randint(2,4))\n",
    "    \n",
    "    # TOP画面より、必要な要素のデータを取得する\n",
    "    trends_keywords = driver.find_elements_by_class_name('title')\n",
    "    summary_text = driver.find_elements_by_class_name('summary-text')\n",
    "    source_text = driver.find_elements_by_class_name('source-and-time')\n",
    "        \n",
    "    # 全ての要素が取得できた場合、処理を進める\n",
    "    while bool(len(trends_keywords) == 0 or  len(summary_text) == 0 or len(source_text) == 0):\n",
    "        time.sleep(10)\n",
    "        trends_keywords = driver.find_elements_by_class_name('title')\n",
    "        summary_text = driver.find_elements_by_class_name('summary-text')\n",
    "        source_text = driver.find_elements_by_class_name('source-and-time')\n",
    "    else:\n",
    "        trends_keyword = []\n",
    "        trends_abst = []\n",
    "        inyo_url = []\n",
    "        inyo_site = []\n",
    "        for i in range(len(trends_keywords)):\n",
    "            trends_keyword.append(trends_keywords[i].text)\n",
    "            trends_abst.append(summary_text[i].text)\n",
    "            inyo_url.append(summary_text[i].find_element_by_tag_name(\"a\").get_attribute(\"href\"))\n",
    "            inyo_site.append(source_text[i].text.split()[0])\n",
    "    \n",
    "    # 各トレンドごとに詳細情報を取得する為、要素をクリックし必要なHTMLを表示させる（その為のクリックする要素を取得している）\n",
    "    trend_click = driver.find_elements_by_class_name('feed-item')\n",
    "    \n",
    "    # 蓄積用のリストを用意しておく\n",
    "    google_trend_news_list = []\n",
    "    google_trend_words_list = []\n",
    "    \n",
    "    # トレンドごとに詳細情報を取得する為、要素をクリックし必要なHTMLを表示させる\n",
    "    for trend in trend_click:\n",
    "        trend.click()\n",
    "        \n",
    "        # 1秒間、ページが開かれるのを待つ\n",
    "        time.sleep(1)\n",
    "        \n",
    "        # 引用ニュースを取得\n",
    "        google_trend_news_tmp = driver.find_elements_by_class_name('item-title')\n",
    "        google_trend_news = ''\n",
    "        for news in google_trend_news_tmp:\n",
    "            google_trend_news = google_trend_news + news.text\n",
    "            \n",
    "        # 関連ワードを取得\n",
    "        google_trend_words_tmp = driver.find_elements_by_class_name('list')\n",
    "        google_trend_words = google_trend_words_tmp[0].text.replace(\" \",\"\")\n",
    "        \n",
    "        # リストに追加\n",
    "        google_trend_news_list.append(google_trend_news)\n",
    "        google_trend_words_list.append(google_trend_words) \n",
    "            \n",
    "    driver.quit()\n",
    "    \n",
    "    google_trend_data = {'goole_keyword': trends_keyword, 'google_abst': trends_abst, 'google_url': inyo_url, 'google_site': inyo_site, \\\n",
    "                        'google_news':google_trend_news_list, 'google_words':google_trend_words_list}\n",
    "    \n",
    "    return google_trend_data"
   ]
  },
  {
   "cell_type": "code",
   "execution_count": 11,
   "metadata": {},
   "outputs": [],
   "source": [
    "sample5 = google_trends_search()"
   ]
  },
  {
   "cell_type": "code",
   "execution_count": 13,
   "metadata": {},
   "outputs": [
    {
     "data": {
      "text/plain": [
       "{'goole_keyword': ['バナナマン • TBSテレビ • サンドウィッチマン • 日村 勇紀',\n",
       "  'ニジゲンノモリ • ドラゴンクエスト • 淡路島 • スクウェア・エニックス',\n",
       "  '藤嶋健人 • 中日ドラゴンズ • 登板 • いい夫婦の日',\n",
       "  '大山悠輔 • 阪神タイガース • 日本のプロ野球 • 契約更改 • キャリアハイ',\n",
       "  '木村 文乃 • 徹子の部屋 • 黒柳 徹子 • テレビ朝日 • オールニッポン・ニュースネットワーク',\n",
       "  '賞与 • 国家公務員',\n",
       "  'Cyberpunk 2077 • CD Projekt • PlayStation 4',\n",
       "  '日本女子プロゴルフ協会 • LPGA新人戦 加賀電子カップ • 全米女子オープン',\n",
       "  '高橋 茂雄 • サバンナ • ドラゴン',\n",
       "  'ふたご座流星群 • ふたご座',\n",
       "  '中川 大志 • フジテレビジョン • TOKIOカケル • 松岡 昌宏 • 山本舞香',\n",
       "  'ペ・ヨンジュン • パク・スジン • Instagram',\n",
       "  '平子理沙 • Instagram',\n",
       "  'スピードワゴン • 小沢一敬',\n",
       "  'ケイト • カネボウ化粧品'],\n",
       " 'google_abst': ['【ニュース】『バナナサンドSP』放送決定 今年の音楽シーンで最も注目されたあのアーティストが出演',\n",
       "  '「ドラゴンクエスト アイランド」淡路島に2021年春オープン',\n",
       "  '中日・藤嶋健人が結婚 お相手は名古屋市在住の一般女性「いい夫婦の日」11月22日に',\n",
       "  '【阪神】新主将の大山悠輔「いい評価をしてもらった」 大幅アップで１億円の大台到達',\n",
       "  '木村文乃：きょう「徹子の部屋」出演 女手一つで育ててくれた母への思い明かす',\n",
       "  '国家公務員に65万円ボーナス 昨冬より3万4100円減',\n",
       "  '『サイバーパンク2077』コンソール版向けの28GBの発売前アップデートを配信！',\n",
       "  '「いい成績で終えれるように頑張りたい」プラチナ世代の安田祐香が“７秒動画”で新人戦へ抱負！',\n",
       "  '若手女優・加藤小夏が出演！ドラゴンに扮したサバンナ高橋とゆる～いゲーム実況',\n",
       "  '12月12日～14日 ふたご座流星群を観よう！',\n",
       "  '中川大志の弱点は“虫”！フナムシがたくさんいる洞窟での撮影に「そこでキスは無理よ」',\n",
       "  'ペ・ヨンジュンの妻・女優パク・スジン、特別優遇の議論以降３年ぶりにＳＮＳ活動再開',\n",
       "  '「ジョジョに出て来そう」「めっちゃエキゾチック」 平子理沙、“史上最高の細眉”だった25年前のギャルショットに反響 (1/2)',\n",
       "  '「ひとりが寂しい男を演じてるだけ」スピードワゴン・小沢さんの恋愛論 “結婚は「クローバーの６」”',\n",
       "  'ケイトが小顔効果を備えたマスクを発売、肌を明るく引き立てる4色展開'],\n",
       " 'google_url': ['https://www.excite.co.jp/news/article/E1607540774890/',\n",
       "  'https://news.livedoor.com/article/detail/19357665/',\n",
       "  'https://www.chunichi.co.jp/article/168021',\n",
       "  'https://hochi.news/articles/20201210-OHT1T50060.html',\n",
       "  'https://mantan-web.jp/article/20201209dog00m200086000c.html',\n",
       "  'https://www.fnn.jp/articles/-/117717',\n",
       "  'https://jp.ign.com/cyberpunk-2077/48829/news/207728gb',\n",
       "  'https://news.nifty.com/article/sports/athletic/12290-889196/',\n",
       "  'https://dogatch.jp/news/tbs/89859/detail/',\n",
       "  'https://plus.chunichi.co.jp/blog/asada/article/282/9831/',\n",
       "  'https://dogatch.jp/news/cx/89871/detail/',\n",
       "  'https://japanese.joins.com/JArticle/273231',\n",
       "  'https://nlab.itmedia.co.jp/nl/articles/2012/10/news087.html',\n",
       "  'https://news.livedoor.com/article/detail/19354003/',\n",
       "  'https://www.excite.co.jp/news/article/Fashionsnap_article_2020-12-08_kate-mask/'],\n",
       " 'google_site': ['エキサイトニュース',\n",
       "  'livedoor',\n",
       "  '中日新聞',\n",
       "  'スポーツ報知',\n",
       "  'MANTANWEB（まんたんウェブ）',\n",
       "  'www.fnn.jp',\n",
       "  'IGN',\n",
       "  'ニフティニュース',\n",
       "  'テレビドガッチ',\n",
       "  '中日新聞',\n",
       "  'テレビドガッチ',\n",
       "  '中央日報',\n",
       "  'ねとらぼ',\n",
       "  'livedoor',\n",
       "  'エキサイトニュース'],\n",
       " 'google_news': ['【ニュース】『バナナサンドSP』放送決定 ......『バナナサンド』ゴールデンSP決定 ゲストはバラエティ初出演のアーティスト',\n",
       "  '「ドラゴンクエスト アイランド」淡路島に2021年春オープン淡路島に『ドラクエ』の新アトラクション登場！『ドラゴンクエスト アイランド ......',\n",
       "  '中日・藤嶋健人が結婚 お相手は名古屋市在住の一般女性「いい夫婦の日」11月22日に【中日】藤嶋健人１１月２２日「いい夫婦の日」に一般女性と入籍発表中日藤嶋が結婚「見た瞬間にスローモーション」',\n",
       "  '【阪神】新主将の大山悠輔「いい評価をしてもらった」 大幅アップで１億円の大台到達阪神大山5300万増の１億円！「まだまだいける」阪神・大山が大幅アップの１億円「来年に向けて強い気持ちになるサインの仕方ができた」',\n",
       "  '木村文乃：きょう「徹子の部屋」出演 女手一つで育ててくれた母への思い明かす',\n",
       "  '国家公務員に65万円ボーナス 昨冬より3万4100円減公務員に冬のボーナス 国家公務員平均約65万円 3年連続の減少国家公務員に冬のボーナス支給、３年連続減',\n",
       "  '『サイバーパンク2077』コンソール版向けの28GBの発売前アップデートを配信！ナイトシティへようこそ！ オープンワールドRPG『サイバーパンク2077』ついに発売...',\n",
       "  '...19歳安田祐香、白パーカーでの“最終戦”への決意表明に反響「可愛さに癒されます」第1日組み合わせ発表 ー JLPGA新人戦 加賀電子カップ',\n",
       "  '若手女優・加藤小夏が出演！ドラゴンに扮したサバンナ高橋とゆる～いゲーム実況サバンナ高橋が“ドラゴン”に変身？ 世界一ゆるいゲーム実況番組スタートサバンナ高橋茂雄がドラゴンに扮して旬の女子とゲーム実況！12月ゲストは加藤小夏',\n",
       "  '12月12日～14日 ふたご座流星群を観よう！週間天気来週は強い寒気が南下 今週のうちに冬支度を',\n",
       "  '...中川大志、虫嫌いで父親に電話「何も聞かずに家まで来てください」中川大志は母性本能くすぐり系？虫だけじゃない「弱点」にキュンです',\n",
       "  '...',\n",
       "  '「ジョジョに出て来そう」「めっちゃエキゾチック」 .........',\n",
       "  '「ひとりが寂しい男を演じてるだけ」スピードワゴン・小沢さんの恋愛論 ...「友達がいない自分」選んでない？スピードワゴン・小沢さんの人生論 「俺多分、超孤独なのよ」',\n",
       "  'ケイトが小顔効果を備えたマスクを発売、肌を明るく引き立てる4色展開...カネボウ、若者向け「KATE」のマスク メイクも提案'],\n",
       " 'google_words': ['fns歌謡祭第2夜\\n大井競馬場\\n中村仁美\\n松浦亜弥橘慶太\\n岡添麻希\\n永島優美\\n滝菜月\\n鷲見玲奈インスタ\\nバナナサンド\\n市立船橋\\nアクセサリーボックス\\nあびる優現在\\n椿鬼奴\\nさまーず\\n竹山\\nさまーず大竹\\n大竹一樹\\nサマーズ大竹\\n中村仁美大竹\\n中村仁美旦那\\nfns歌謡祭司会\\n大竹\\nさまぁず大竹\\nfns司会',\n",
       "  'ドラクエタクト\\n淡路島\\nニジゲンノモリ\\nドラクエスーパーライト\\nドラクエタクトリセマラ\\n淡路島ドラクエ\\n堀井雄二\\nロールシャッハ\\nニンゲンノモリ\\nドラクエ淡路島\\nゾーマ\\n淡路島公園\\n淡路島何県\\n淡路島ニジゲンノモリ\\nドラクエスーパーライトらいなま\\n淡路島パソナ\\nにじげんのもり',\n",
       "  '香川コロナ\\n梶谷隆幸\\n鶴竜\\n藤嶋健人\\n帝京高校\\n梶浦郁乃\\n藤嶋健人結婚\\n市船橋コロナ\\n毛頭ない\\n藤島健人\\n中日藤嶋',\n",
       "  '斎藤佑樹\\n梶谷隆幸\\nロハスジュニア\\nロハス\\nロハスjr\\nメルロハスジュニア\\n糸井嘉男\\n鈴木誠也\\nアルカンタラ\\nロハス阪神\\n阪神ロハス\\n巨人契約更改\\n斎藤佑樹年俸\\nサンズ\\n大山悠輔\\nアルカンタラ阪神\\nロサリオ\\n中谷将大\\n増田大輝\\n阪神契約更改\\nボーア\\n菊池涼介\\n糸井\\n鈴木誠也年俸\\nプロ野球年俸',\n",
       "  '松浦亜弥\\n木村文乃\\nakb\\nakbコロナ\\n木村文乃離婚\\nモンサンミッシェル\\n林修の今でしょ講座\\n木村文乃父親\\nスーパーjチャンネル\\n木村文乃子供\\n木村文乃結婚\\nアップフロント\\n徹子の部屋今日\\n徹子の部屋再放送',\n",
       "  'ボーナス\\n公務員ボーナス\\n冬のボーナス\\nボーナス平均\\n国家公務員ボーナス\\n賞与\\n国家公務員\\n地方公務員ボーナス\\n冬のボーナス平均\\nボーナス手取り計算\\n公務員ボーナス日\\n冬ボーナス\\nボーナスとは\\n2020冬ボーナス\\nボーナス手取り\\n国家公務員とは\\n人事院勧告\\nボーナス2020冬\\n冬のボーナス2020\\nボーナス公務員\\n勤勉手当\\nコロナボーナス\\n自衛隊ボーナス\\n勤勉手当とは\\n人事院勧告2020',\n",
       "  'サイバーパンク2077\\nサイバーパンク\\ncyberpunk2077\\noutward\\nサイバーパンク2077ps5\\nサイバーパンク2077pc\\nドラクエ11sps4\\ngog\\nサイバーパンク2077規制\\nサイバーパンク2077評価\\ncyberpunk\\nサイバーパンク2077発売日\\nサイバーパンク2077steam\\nサイバーパンク2077キャラメイク\\nサイバーパンク2077マルチプレイ\\nサイバーパンク2077レビュー\\nサイバーパンク2077オンライン\\nサイバーパンク2077ps4\\n2077\\ncyberpunk2077\\nレイトレーシング\\n赛博朋克2077\\nサイバーパンク2077pcスペック\\nドカポンps4\\nアウトワードps4',\n",
       "  '香川コロナ\\n全米女子オープン\\n全米女子オープン2020\\n紺野まひる\\n加賀電子カップ\\njlpga\\n永島アナ\\n全米女子オープンゴルフ2020\\n全米女子オープン2020テレビ放送\\n全米女子オープン2020放送\\n全米女子オープン放送\\n全米オープン\\n豪栄道結婚\\n安田祐香\\n加賀電子\\n全米女子オープンゴルフ\\n加賀電子カップ2018\\n全米女子オープン組み合わせ\\n全米女子オープンゴルフ2020放送\\n全米オープン2020\\n全米女子オープン2020組み合わせ\\n渡邉彩香\\n加賀電子カップ2020\\nグレートアイランド\\n全米オープン女子ゴルフ',\n",
       "  'fnsタイムテーブル\\n花總まり\\ne-girls\\n日村嫁\\nバナナマン日村\\nアクセサリーボックス\\nキコーナ西淡路\\nさまーず大竹\\negirls楓\\n中村アナ大竹',\n",
       "  '宇宙ステーション\\niss\\nふたご座流星群\\n双子座流星群\\n希望を見よう\\nふたご座\\nふたご座流星群2020天気\\nふたご座流星群方角\\nふたご座流星群2020方角\\nふたご座流星群2020時間\\n三大流星群\\n双子座流星群方角\\nふたご座流星群天気',\n",
       "  'リモラブ\\n山崎育三郎\\n中川翔子\\n中川大志\\n木村拓哉\\n飯豊まりえ\\n大野智\\nフナムシ\\n比嘉愛未\\n13歳のハローワーク\\n国分太一\\n松岡昌宏\\n比嘉愛未結婚\\n13歳のハローワークドラマ\\nふなむし\\ntokioカケル\\n中川大志山本舞香\\n中川大志朝ドラ\\n中川大志彼女\\n中川大志福士蒼汰\\n山本舞香中川大志\\n南くんの恋人\\n山本舞香彼氏\\n国分太一自宅\\n福士壮太',\n",
       "  '工藤静香\\n竹内結子\\nこのマンガがすごい2021\\n坂崎幸之助\\n遠藤章造\\nペヨンジュン\\n小島慶子旦那\\nパクスジン\\n坂崎幸之助インスタ\\n倖田來未スキンケア\\nキムヒョンスク',\n",
       "  'しまむらチラシ\\n工藤静香\\n高見沢俊彦\\n木下優樹菜インスタ\\n小倉優子インスタ\\n江角マキコ',\n",
       "  '小沢健二\\n斎藤佑樹\\n愛し君へドラマ\\n三浦大知\\n森山直太朗\\nマッコイ斉藤\\n宗谷本線\\n水谷豊\\n東ブクロ\\n巨人契約更改\\nタイムテーブルfns\\n小澤征悦\\nせくしーぞーん\\nノーベル\\n中山楽美\\n富良野人口\\nスピードワゴン小沢\\nミッフィーガチャガチャ\\n広瀬アリス男の子',\n",
       "  'ケイトマスク\\nkateマスク\\nトルネコ\\nエア離婚\\n大泉学園\\ngao歌手\\nkate\\nケイトマスク予約\\nkateマスク予約\\n剣幸\\n小島慶子夫不倫\\nカネボウマスク\\nscジョンソン']}"
      ]
     },
     "execution_count": 13,
     "metadata": {},
     "output_type": "execute_result"
    }
   ],
   "source": [
    "# googleトレンドの急上昇ワードなどのデータが取得できている\n",
    "sample5"
   ]
  },
  {
   "cell_type": "markdown",
   "metadata": {},
   "source": [
    "## 必要な処理は用意できたので、ここからレコメンドを作っていく。"
   ]
  },
  {
   "cell_type": "markdown",
   "metadata": {},
   "source": [
    "#### ちょっとしたデータ加工"
   ]
  },
  {
   "cell_type": "code",
   "execution_count": 14,
   "metadata": {},
   "outputs": [],
   "source": [
    "google_trend_word = []\n",
    "for i in sample5['goole_keyword']:\n",
    "    google_trend_word.append(i.split(' • '))"
   ]
  },
  {
   "cell_type": "code",
   "execution_count": 15,
   "metadata": {},
   "outputs": [],
   "source": [
    "google_trend_news = sample5['google_news']"
   ]
  },
  {
   "cell_type": "code",
   "execution_count": 16,
   "metadata": {},
   "outputs": [],
   "source": [
    "google_trend_words = sample5['google_words']"
   ]
  },
  {
   "cell_type": "markdown",
   "metadata": {},
   "source": [
    "#### 【NesAPIを使用】トレンドワードに基づいて、関連ニュースを取得する"
   ]
  },
  {
   "cell_type": "code",
   "execution_count": 17,
   "metadata": {
    "scrolled": true
   },
   "outputs": [],
   "source": [
    "sample_news = []\n",
    "for j in google_trend_word:\n",
    "    sample_news.append(keyword_news_search(search_word = j[0]))\n",
    "    time.sleep(1)"
   ]
  },
  {
   "cell_type": "code",
   "execution_count": 18,
   "metadata": {},
   "outputs": [],
   "source": [
    "news_text = []\n",
    "for k in sample_news:\n",
    "    news_text_tmp = ''\n",
    "    for o in k['articles']:\n",
    "        news_text_tmp += (o['title'] +\",\"+ str(o['description']))\n",
    "    news_text.append(news_text_tmp)"
   ]
  },
  {
   "cell_type": "markdown",
   "metadata": {},
   "source": [
    "#### 【twitterAPIを使用】トレンドワードに基づいて、関連ツイートを取得する"
   ]
  },
  {
   "cell_type": "code",
   "execution_count": 19,
   "metadata": {
    "scrolled": true
   },
   "outputs": [],
   "source": [
    "twtter_text = []\n",
    "for p in google_trend_word:\n",
    "    twtter_text.append(twitter_search(search_keyword=p[0], search_count = 10))\n",
    "    time.sleep(1)"
   ]
  },
  {
   "cell_type": "code",
   "execution_count": 20,
   "metadata": {},
   "outputs": [],
   "source": [
    "twitter_text_list = []\n",
    "for q in twtter_text:\n",
    "    \n",
    "    twitter_text_tmp = ''\n",
    "    for i in range(len(q[\"statuses\"])):\n",
    "        twitter_text_tmp += q[\"statuses\"][i][\"text\"]\n",
    "        \n",
    "    twitter_text_list.append(twitter_text_tmp)"
   ]
  },
  {
   "cell_type": "markdown",
   "metadata": {},
   "source": [
    "#### ここまでの処理で取得できたデータを見てみる"
   ]
  },
  {
   "cell_type": "code",
   "execution_count": 22,
   "metadata": {},
   "outputs": [
    {
     "data": {
      "text/plain": [
       "[['バナナマン', 'TBSテレビ', 'サンドウィッチマン', '日村 勇紀'],\n",
       " ['ニジゲンノモリ', 'ドラゴンクエスト', '淡路島', 'スクウェア・エニックス'],\n",
       " ['藤嶋健人', '中日ドラゴンズ', '登板', 'いい夫婦の日'],\n",
       " ['大山悠輔', '阪神タイガース', '日本のプロ野球', '契約更改', 'キャリアハイ'],\n",
       " ['木村 文乃', '徹子の部屋', '黒柳 徹子', 'テレビ朝日', 'オールニッポン・ニュースネットワーク'],\n",
       " ['賞与', '国家公務員'],\n",
       " ['Cyberpunk 2077', 'CD Projekt', 'PlayStation 4'],\n",
       " ['日本女子プロゴルフ協会', 'LPGA新人戦 加賀電子カップ', '全米女子オープン'],\n",
       " ['高橋 茂雄', 'サバンナ', 'ドラゴン'],\n",
       " ['ふたご座流星群', 'ふたご座'],\n",
       " ['中川 大志', 'フジテレビジョン', 'TOKIOカケル', '松岡 昌宏', '山本舞香'],\n",
       " ['ペ・ヨンジュン', 'パク・スジン', 'Instagram'],\n",
       " ['平子理沙', 'Instagram'],\n",
       " ['スピードワゴン', '小沢一敬'],\n",
       " ['ケイト', 'カネボウ化粧品']]"
      ]
     },
     "execution_count": 22,
     "metadata": {},
     "output_type": "execute_result"
    }
   ],
   "source": [
    "# googleトレンドで急上昇中のワード一覧\n",
    "google_trend_word"
   ]
  },
  {
   "cell_type": "code",
   "execution_count": 24,
   "metadata": {},
   "outputs": [
    {
     "data": {
      "text/plain": [
       "['【ニュース】『バナナサンドSP』放送決定 ......『バナナサンド』ゴールデンSP決定 ゲストはバラエティ初出演のアーティスト',\n",
       " '「ドラゴンクエスト アイランド」淡路島に2021年春オープン淡路島に『ドラクエ』の新アトラクション登場！『ドラゴンクエスト アイランド ......',\n",
       " '中日・藤嶋健人が結婚 お相手は名古屋市在住の一般女性「いい夫婦の日」11月22日に【中日】藤嶋健人１１月２２日「いい夫婦の日」に一般女性と入籍発表中日藤嶋が結婚「見た瞬間にスローモーション」',\n",
       " '【阪神】新主将の大山悠輔「いい評価をしてもらった」 大幅アップで１億円の大台到達阪神大山5300万増の１億円！「まだまだいける」阪神・大山が大幅アップの１億円「来年に向けて強い気持ちになるサインの仕方ができた」',\n",
       " '木村文乃：きょう「徹子の部屋」出演 女手一つで育ててくれた母への思い明かす',\n",
       " '国家公務員に65万円ボーナス 昨冬より3万4100円減公務員に冬のボーナス 国家公務員平均約65万円 3年連続の減少国家公務員に冬のボーナス支給、３年連続減',\n",
       " '『サイバーパンク2077』コンソール版向けの28GBの発売前アップデートを配信！ナイトシティへようこそ！ オープンワールドRPG『サイバーパンク2077』ついに発売...',\n",
       " '...19歳安田祐香、白パーカーでの“最終戦”への決意表明に反響「可愛さに癒されます」第1日組み合わせ発表 ー JLPGA新人戦 加賀電子カップ',\n",
       " '若手女優・加藤小夏が出演！ドラゴンに扮したサバンナ高橋とゆる～いゲーム実況サバンナ高橋が“ドラゴン”に変身？ 世界一ゆるいゲーム実況番組スタートサバンナ高橋茂雄がドラゴンに扮して旬の女子とゲーム実況！12月ゲストは加藤小夏',\n",
       " '12月12日～14日 ふたご座流星群を観よう！週間天気来週は強い寒気が南下 今週のうちに冬支度を',\n",
       " '...中川大志、虫嫌いで父親に電話「何も聞かずに家まで来てください」中川大志は母性本能くすぐり系？虫だけじゃない「弱点」にキュンです',\n",
       " '...',\n",
       " '「ジョジョに出て来そう」「めっちゃエキゾチック」 .........',\n",
       " '「ひとりが寂しい男を演じてるだけ」スピードワゴン・小沢さんの恋愛論 ...「友達がいない自分」選んでない？スピードワゴン・小沢さんの人生論 「俺多分、超孤独なのよ」',\n",
       " 'ケイトが小顔効果を備えたマスクを発売、肌を明るく引き立てる4色展開...カネボウ、若者向け「KATE」のマスク メイクも提案']"
      ]
     },
     "execution_count": 24,
     "metadata": {},
     "output_type": "execute_result"
    }
   ],
   "source": [
    "# googleトレンドに紐づいている関連ニュースタイトル\n",
    "google_trend_news"
   ]
  },
  {
   "cell_type": "code",
   "execution_count": 26,
   "metadata": {},
   "outputs": [
    {
     "data": {
      "text/plain": [
       "['fns歌謡祭第2夜\\n大井競馬場\\n中村仁美\\n松浦亜弥橘慶太\\n岡添麻希\\n永島優美\\n滝菜月\\n鷲見玲奈インスタ\\nバナナサンド\\n市立船橋\\nアクセサリーボックス\\nあびる優現在\\n椿鬼奴\\nさまーず\\n竹山\\nさまーず大竹\\n大竹一樹\\nサマーズ大竹\\n中村仁美大竹\\n中村仁美旦那\\nfns歌謡祭司会\\n大竹\\nさまぁず大竹\\nfns司会',\n",
       " 'ドラクエタクト\\n淡路島\\nニジゲンノモリ\\nドラクエスーパーライト\\nドラクエタクトリセマラ\\n淡路島ドラクエ\\n堀井雄二\\nロールシャッハ\\nニンゲンノモリ\\nドラクエ淡路島\\nゾーマ\\n淡路島公園\\n淡路島何県\\n淡路島ニジゲンノモリ\\nドラクエスーパーライトらいなま\\n淡路島パソナ\\nにじげんのもり',\n",
       " '香川コロナ\\n梶谷隆幸\\n鶴竜\\n藤嶋健人\\n帝京高校\\n梶浦郁乃\\n藤嶋健人結婚\\n市船橋コロナ\\n毛頭ない\\n藤島健人\\n中日藤嶋',\n",
       " '斎藤佑樹\\n梶谷隆幸\\nロハスジュニア\\nロハス\\nロハスjr\\nメルロハスジュニア\\n糸井嘉男\\n鈴木誠也\\nアルカンタラ\\nロハス阪神\\n阪神ロハス\\n巨人契約更改\\n斎藤佑樹年俸\\nサンズ\\n大山悠輔\\nアルカンタラ阪神\\nロサリオ\\n中谷将大\\n増田大輝\\n阪神契約更改\\nボーア\\n菊池涼介\\n糸井\\n鈴木誠也年俸\\nプロ野球年俸',\n",
       " '松浦亜弥\\n木村文乃\\nakb\\nakbコロナ\\n木村文乃離婚\\nモンサンミッシェル\\n林修の今でしょ講座\\n木村文乃父親\\nスーパーjチャンネル\\n木村文乃子供\\n木村文乃結婚\\nアップフロント\\n徹子の部屋今日\\n徹子の部屋再放送',\n",
       " 'ボーナス\\n公務員ボーナス\\n冬のボーナス\\nボーナス平均\\n国家公務員ボーナス\\n賞与\\n国家公務員\\n地方公務員ボーナス\\n冬のボーナス平均\\nボーナス手取り計算\\n公務員ボーナス日\\n冬ボーナス\\nボーナスとは\\n2020冬ボーナス\\nボーナス手取り\\n国家公務員とは\\n人事院勧告\\nボーナス2020冬\\n冬のボーナス2020\\nボーナス公務員\\n勤勉手当\\nコロナボーナス\\n自衛隊ボーナス\\n勤勉手当とは\\n人事院勧告2020',\n",
       " 'サイバーパンク2077\\nサイバーパンク\\ncyberpunk2077\\noutward\\nサイバーパンク2077ps5\\nサイバーパンク2077pc\\nドラクエ11sps4\\ngog\\nサイバーパンク2077規制\\nサイバーパンク2077評価\\ncyberpunk\\nサイバーパンク2077発売日\\nサイバーパンク2077steam\\nサイバーパンク2077キャラメイク\\nサイバーパンク2077マルチプレイ\\nサイバーパンク2077レビュー\\nサイバーパンク2077オンライン\\nサイバーパンク2077ps4\\n2077\\ncyberpunk2077\\nレイトレーシング\\n赛博朋克2077\\nサイバーパンク2077pcスペック\\nドカポンps4\\nアウトワードps4',\n",
       " '香川コロナ\\n全米女子オープン\\n全米女子オープン2020\\n紺野まひる\\n加賀電子カップ\\njlpga\\n永島アナ\\n全米女子オープンゴルフ2020\\n全米女子オープン2020テレビ放送\\n全米女子オープン2020放送\\n全米女子オープン放送\\n全米オープン\\n豪栄道結婚\\n安田祐香\\n加賀電子\\n全米女子オープンゴルフ\\n加賀電子カップ2018\\n全米女子オープン組み合わせ\\n全米女子オープンゴルフ2020放送\\n全米オープン2020\\n全米女子オープン2020組み合わせ\\n渡邉彩香\\n加賀電子カップ2020\\nグレートアイランド\\n全米オープン女子ゴルフ',\n",
       " 'fnsタイムテーブル\\n花總まり\\ne-girls\\n日村嫁\\nバナナマン日村\\nアクセサリーボックス\\nキコーナ西淡路\\nさまーず大竹\\negirls楓\\n中村アナ大竹',\n",
       " '宇宙ステーション\\niss\\nふたご座流星群\\n双子座流星群\\n希望を見よう\\nふたご座\\nふたご座流星群2020天気\\nふたご座流星群方角\\nふたご座流星群2020方角\\nふたご座流星群2020時間\\n三大流星群\\n双子座流星群方角\\nふたご座流星群天気',\n",
       " 'リモラブ\\n山崎育三郎\\n中川翔子\\n中川大志\\n木村拓哉\\n飯豊まりえ\\n大野智\\nフナムシ\\n比嘉愛未\\n13歳のハローワーク\\n国分太一\\n松岡昌宏\\n比嘉愛未結婚\\n13歳のハローワークドラマ\\nふなむし\\ntokioカケル\\n中川大志山本舞香\\n中川大志朝ドラ\\n中川大志彼女\\n中川大志福士蒼汰\\n山本舞香中川大志\\n南くんの恋人\\n山本舞香彼氏\\n国分太一自宅\\n福士壮太',\n",
       " '工藤静香\\n竹内結子\\nこのマンガがすごい2021\\n坂崎幸之助\\n遠藤章造\\nペヨンジュン\\n小島慶子旦那\\nパクスジン\\n坂崎幸之助インスタ\\n倖田來未スキンケア\\nキムヒョンスク',\n",
       " 'しまむらチラシ\\n工藤静香\\n高見沢俊彦\\n木下優樹菜インスタ\\n小倉優子インスタ\\n江角マキコ',\n",
       " '小沢健二\\n斎藤佑樹\\n愛し君へドラマ\\n三浦大知\\n森山直太朗\\nマッコイ斉藤\\n宗谷本線\\n水谷豊\\n東ブクロ\\n巨人契約更改\\nタイムテーブルfns\\n小澤征悦\\nせくしーぞーん\\nノーベル\\n中山楽美\\n富良野人口\\nスピードワゴン小沢\\nミッフィーガチャガチャ\\n広瀬アリス男の子',\n",
       " 'ケイトマスク\\nkateマスク\\nトルネコ\\nエア離婚\\n大泉学園\\ngao歌手\\nkate\\nケイトマスク予約\\nkateマスク予約\\n剣幸\\n小島慶子夫不倫\\nカネボウマスク\\nscジョンソン']"
      ]
     },
     "execution_count": 26,
     "metadata": {},
     "output_type": "execute_result"
    }
   ],
   "source": [
    "# googleトレンドに紐づいている関連ワード\n",
    "google_trend_words"
   ]
  },
  {
   "cell_type": "code",
   "execution_count": 27,
   "metadata": {},
   "outputs": [],
   "source": [
    "#　ちょっとデータ加工\n",
    "google_trend_word_text = []\n",
    "for r in google_trend_word:\n",
    "    google_trend_word_text_tmp = ','.join(r)\n",
    "    google_trend_word_text.append(google_trend_word_text_tmp)"
   ]
  },
  {
   "cell_type": "markdown",
   "metadata": {},
   "source": [
    "#### googleトレンドのページに記載されているテキストは重みをつける（✖️3）"
   ]
  },
  {
   "cell_type": "code",
   "execution_count": 30,
   "metadata": {},
   "outputs": [],
   "source": [
    "test_text = []\n",
    "for s in range(len(google_trend_word_text)):\n",
    "    test_text.append((google_trend_word_text[s] + google_trend_news[s] + google_trend_words[s]) * 3 + news_text[s] + twitter_text_list[s])"
   ]
  },
  {
   "cell_type": "markdown",
   "metadata": {},
   "source": [
    "## 楽天APIで取得済みの商品リストを持ってくる"
   ]
  },
  {
   "cell_type": "markdown",
   "metadata": {},
   "source": [
    "#### 楽天APIで書籍情報を取得し続ける処理は別途作成し実行ずみ。.pickleのファイルにしているので、ここで読み込み使用する。"
   ]
  },
  {
   "cell_type": "code",
   "execution_count": 31,
   "metadata": {},
   "outputs": [],
   "source": [
    "import pickle\n",
    "import pandas as pd"
   ]
  },
  {
   "cell_type": "code",
   "execution_count": 32,
   "metadata": {},
   "outputs": [],
   "source": [
    "# .pickleから著者リストを読み出し\n",
    "with open('book_list_csv.pickle','rb') as f:\n",
    "    book_list = pickle.load(f)"
   ]
  },
  {
   "cell_type": "code",
   "execution_count": 34,
   "metadata": {},
   "outputs": [],
   "source": [
    "test_books = book_list['title']+\",\"+book_list['subTitle']+\",\"+book_list['itemCaption']"
   ]
  },
  {
   "cell_type": "code",
   "execution_count": 36,
   "metadata": {},
   "outputs": [],
   "source": [
    "df1 = pd.DataFrame()\n",
    "df1['test'] = test_books"
   ]
  },
  {
   "cell_type": "code",
   "execution_count": 37,
   "metadata": {},
   "outputs": [],
   "source": [
    "df2 = pd.DataFrame(test_text, columns=['test'])"
   ]
  },
  {
   "cell_type": "code",
   "execution_count": 38,
   "metadata": {},
   "outputs": [],
   "source": [
    "df3 = df1.append(df2).reset_index()"
   ]
  },
  {
   "cell_type": "markdown",
   "metadata": {},
   "source": [
    "#### 自然言語処理で、テキストをベクトルに変換していく"
   ]
  },
  {
   "cell_type": "code",
   "execution_count": 39,
   "metadata": {},
   "outputs": [],
   "source": [
    "from sklearn import preprocessing"
   ]
  },
  {
   "cell_type": "code",
   "execution_count": 40,
   "metadata": {},
   "outputs": [],
   "source": [
    "import numpy as np\n",
    "from sklearn.feature_extraction.text import TfidfVectorizer\n",
    "from sklearn.feature_extraction.text import CountVectorizer"
   ]
  },
  {
   "cell_type": "code",
   "execution_count": 41,
   "metadata": {
    "scrolled": true
   },
   "outputs": [],
   "source": [
    "import MeCab"
   ]
  },
  {
   "cell_type": "code",
   "execution_count": 42,
   "metadata": {},
   "outputs": [],
   "source": [
    "import re"
   ]
  },
  {
   "cell_type": "code",
   "execution_count": 43,
   "metadata": {},
   "outputs": [],
   "source": [
    "m = MeCab.Tagger (\"-Ochasen -d /usr/local/lib/mecab/dic/mecab-ipadic-neologd\")"
   ]
  },
  {
   "cell_type": "code",
   "execution_count": 44,
   "metadata": {},
   "outputs": [],
   "source": [
    "# あまり関係のないと思われる数字を全て0に置き換える関数\n",
    "def replace_number_to_zero(text):\n",
    "    changed_text = re.sub(r'[0-9]+', \"0\", text) #半角\n",
    "    changed_text = re.sub(r'[０-９]+', \"0\", changed_text) #全角\n",
    "    return changed_text\n",
    "\n",
    "# 数字を0に置換\n",
    "df3['review_number_to_zero'] = df3['test'].map(replace_number_to_zero)"
   ]
  },
  {
   "cell_type": "code",
   "execution_count": 45,
   "metadata": {
    "scrolled": true
   },
   "outputs": [],
   "source": [
    "# 分かち書きした結果を返す関数\n",
    "def leaving_space_between_words_column(text):\n",
    "    \n",
    "    nouns = []\n",
    "    \n",
    "    for line in m.parse(text).splitlines():\n",
    "        if len(line.split()) > 0:\n",
    "            if \"名詞\" in line.split()[-1]:\n",
    "                nouns.append(line)\n",
    "    \n",
    "#     nouns = [line for line in m.parse(text).splitlines()\n",
    "#                if \"名詞\" in line.split()[-1]]\n",
    "\n",
    "    meishi_list = []\n",
    "    for str in nouns:\n",
    "        meishi_list.append(str.split()[2])\n",
    "    \n",
    "#     return ','.join(meishi_list)\n",
    "    return ' '.join(meishi_list)\n",
    "\n",
    "# 分かち書きしたカラムをdfに追加する\n",
    "df3['lsbw'] = df3['review_number_to_zero'].map(leaving_space_between_words_column)"
   ]
  },
  {
   "cell_type": "code",
   "execution_count": 46,
   "metadata": {},
   "outputs": [],
   "source": [
    "vectorizer = TfidfVectorizer()\n",
    "X = vectorizer.fit_transform(df3['lsbw'])"
   ]
  },
  {
   "cell_type": "code",
   "execution_count": 47,
   "metadata": {},
   "outputs": [],
   "source": [
    "from sklearn.metrics.pairwise import cosine_similarity"
   ]
  },
  {
   "cell_type": "code",
   "execution_count": 51,
   "metadata": {},
   "outputs": [],
   "source": [
    "trend_target = X[182482:]\n",
    "trend_items = X[:182481]"
   ]
  },
  {
   "cell_type": "code",
   "execution_count": 52,
   "metadata": {},
   "outputs": [
    {
     "name": "stdout",
     "output_type": "stream",
     "text": [
      "index                                                                    0\n",
      "test                     バナナマン,TBSテレビ,サンドウィッチマン,日村 勇紀【ニュース】『バナナサンドSP』放送...\n",
      "review_number_to_zero    バナナマン,TBSテレビ,サンドウィッチマン,日村 勇紀【ニュース】『バナナサンドSP』放送...\n",
      "lsbw                     バナナマン TBSテレビ サンドウィッチマン 日村 勇紀 ニュース バナナサンド SP 放送...\n",
      "Name: 182482, dtype: object\n",
      "-----\n",
      "0.21505204446891682\n",
      "index                                 21729\n",
      "test                     ぼくがうまれたひ,大竹典子童謡詩集,\n",
      "review_number_to_zero    ぼくがうまれたひ,大竹典子童謡詩集,\n",
      "lsbw                      ぼく 躱避 大竹 典子 童謡 詩集\n",
      "Name: 21729, dtype: object\n",
      "-----\n",
      "0.13942551461594022\n",
      "index                          16265\n",
      "test                     愛しの桜さん（2）,,\n",
      "review_number_to_zero    愛しの桜さん（0）,,\n",
      "lsbw                          桜 さん 0\n",
      "Name: 16265, dtype: object\n",
      "-----\n",
      "0.13942551461594022\n",
      "index                          16265\n",
      "test                     愛しの桜さん（2）,,\n",
      "review_number_to_zero    愛しの桜さん（0）,,\n",
      "lsbw                          桜 さん 0\n",
      "Name: 16265, dtype: object\n",
      "-----\n",
      "-----\n",
      "-----\n",
      "-----\n",
      "index                                                                    1\n",
      "test                     ニジゲンノモリ,ドラゴンクエスト,淡路島,スクウェア・エニックス「ドラゴンクエスト アイラン...\n",
      "review_number_to_zero    ニジゲンノモリ,ドラゴンクエスト,淡路島,スクウェア・エニックス「ドラゴンクエスト アイラン...\n",
      "lsbw                     ニジゲンノモリ Dragon 淡路島 スクウェア・エニックス Dragon Eyeland ...\n",
      "Name: 182483, dtype: object\n",
      "-----\n",
      "0.30506334138624397\n",
      "index                                                    1828\n",
      "test                     人生ドラクエ化マニュアル,覚醒せよ！人生は命がけのドラゴンクエストだ！,\n",
      "review_number_to_zero    人生ドラクエ化マニュアル,覚醒せよ！人生は命がけのドラゴンクエストだ！,\n",
      "lsbw                         人生 ドラクエ 化 マニュアル 覚醒 人生 命がけ Dragon\n",
      "Name: 1828, dtype: object\n",
      "-----\n",
      "0.2983346854213743\n",
      "index                                 1827\n",
      "test                     人生ドラクエ化マニュアル（2）,,\n",
      "review_number_to_zero    人生ドラクエ化マニュアル（0）,,\n",
      "lsbw                     人生 ドラクエ 化 マニュアル 0\n",
      "Name: 1827, dtype: object\n",
      "-----\n",
      "0.25111904758305226\n",
      "index                              180603\n",
      "test                     ドラゴンボール完全版（34）,,\n",
      "review_number_to_zero     ドラゴンボール完全版（0）,,\n",
      "lsbw                        DRAGON 完全 版 0\n",
      "Name: 180603, dtype: object\n",
      "-----\n",
      "-----\n",
      "-----\n",
      "-----\n",
      "index                                                                    2\n",
      "test                     藤嶋健人,中日ドラゴンズ,登板,いい夫婦の日中日・藤嶋健人が結婚 お相手は名古屋市在住の一般...\n",
      "review_number_to_zero    藤嶋健人,中日ドラゴンズ,登板,いい夫婦の日中日・藤嶋健人が結婚 お相手は名古屋市在住の一般...\n",
      "lsbw                     藤嶋 健人 中日ドラゴンズ 登板 いい夫婦の日 中日 藤嶋健人 結婚 御相手 名古屋市 在住...\n",
      "Name: 182484, dtype: object\n",
      "-----\n",
      "0.14749947019440113\n",
      "index                                         73861\n",
      "test                     勤番武士の心と暮らし,参勤交代での江戸詰中日記から,\n",
      "review_number_to_zero    勤番武士の心と暮らし,参勤交代での江戸詰中日記から,\n",
      "lsbw                      勤番 武士 心 暮らし 参勤交代 江戸詰 中日 記\n",
      "Name: 73861, dtype: object\n",
      "-----\n",
      "0.13516760429354416\n",
      "index                                                174388\n",
      "test                            庄内藩の東海道道中日記,享保・寛保・寛政御上京史料集,\n",
      "review_number_to_zero           庄内藩の東海道道中日記,享保・寛保・寛政御上京史料集,\n",
      "lsbw                     庄内藩 東海道 道 中日 記 享保 寛 保 寛政 御 上京 史料 集\n",
      "Name: 174388, dtype: object\n",
      "-----\n",
      "0.13508242050910346\n",
      "index                                                                51606\n",
      "test                     身につく中日・日中辞典,,本書は、中国語を学びはじめた方、あるいは学びなおす方にとって、どの...\n",
      "review_number_to_zero    身につく中日・日中辞典,,本書は、中国語を学びはじめた方、あるいは学びなおす方にとって、どの...\n",
      "lsbw                             身 中日 日中 辞典 本書 中国語 はじめ 他方 方 よう 辞書 有用 編集 もの\n",
      "Name: 51606, dtype: object\n",
      "-----\n",
      "-----\n",
      "-----\n",
      "-----\n",
      "index                                                                    3\n",
      "test                     大山悠輔,阪神タイガース,日本のプロ野球,契約更改,キャリアハイ【阪神】新主将の大山悠輔「い...\n",
      "review_number_to_zero    大山悠輔,阪神タイガース,日本のプロ野球,契約更改,キャリアハイ【阪神】新主将の大山悠輔「い...\n",
      "lsbw                     大山 悠輔 阪神タイガース 日本のプロ野球 契約更改 キャリアハイ 阪神 新 主将 大山悠輔...\n",
      "Name: 182485, dtype: object\n",
      "-----\n",
      "0.26622477033046027\n",
      "index                                                  147910\n",
      "test                     ロハスの思考,,ロハスの思考は新しいライフスタイルへのパラダイムシフト。\n",
      "review_number_to_zero    ロハスの思考,,ロハスの思考は新しいライフスタイルへのパラダイムシフト。\n",
      "lsbw                           ロハス 思考 ロハス 思考 ライフスタイル パラダイムシフト\n",
      "Name: 147910, dtype: object\n",
      "-----\n",
      "0.2334008420304946\n",
      "index                                                               169995\n",
      "test                     由伸・巨人と金本・阪神崩壊の内幕,,２０１６年、巨人は高橋由伸、阪神は金本知憲が新監督に就任...\n",
      "review_number_to_zero    由伸・巨人と金本・阪神崩壊の内幕,,0年、巨人は高橋由伸、阪神は金本知憲が新監督に就任し、開...\n",
      "lsbw                     由伸 巨人 金本 阪神 崩壊 内幕 0 年 巨人 高橋由伸 阪神 金本知憲 新監督 就任 開...\n",
      "Name: 169995, dtype: object\n",
      "-----\n",
      "0.2301084933998259\n",
      "index                                                                53342\n",
      "test                     災害がほんとうに襲った時,阪神淡路大震災50日間の記録,歴史に学ぶ、「神戸」から考える。精神...\n",
      "review_number_to_zero    災害がほんとうに襲った時,阪神淡路大震災0日間の記録,歴史に学ぶ、「神戸」から考える。精神科...\n",
      "lsbw                     災害 ほんとう 時 阪神・淡路大震災 0 日間 記録 歴史 神戸 精神科医 関与 観察 阪神...\n",
      "Name: 53342, dtype: object\n",
      "-----\n",
      "-----\n",
      "-----\n",
      "-----\n",
      "index                                                                    4\n",
      "test                     木村 文乃,徹子の部屋,黒柳 徹子,テレビ朝日,オールニッポン・ニュースネットワーク木村文乃...\n",
      "review_number_to_zero    木村 文乃,徹子の部屋,黒柳 徹子,テレビ朝日,オールニッポン・ニュースネットワーク木村文乃...\n",
      "lsbw                     木村 文乃 徹子の部屋 黒柳 徹子 テレビ朝日 オールニッポン・ニュースネットワーク 木村文...\n",
      "Name: 182486, dtype: object\n",
      "-----\n",
      "0.5772108248270887\n",
      "index                                                    161766\n",
      "test                     ふみの,木村文乃写真集,始まりは冬。そして春、夏ー女優・木村文乃がいる風景。\n",
      "review_number_to_zero    ふみの,木村文乃写真集,始まりは冬。そして春、夏ー女優・木村文乃がいる風景。\n",
      "lsbw                        ふみの 木村文乃 写真集 始まり 冬 春 夏 ー 女優 木村文乃 風景\n",
      "Name: 161766, dtype: object\n",
      "-----\n",
      "0.07880939555483675\n",
      "index                                        152011\n",
      "test                     タマネギのひみつ。,黒柳さんに聞いた徹子さんのこと,\n",
      "review_number_to_zero    タマネギのひみつ。,黒柳さんに聞いた徹子さんのこと,\n",
      "lsbw                         タマネギ 秘密 黒柳 さん 徹子 さん こと\n",
      "Name: 152011, dtype: object\n",
      "-----\n",
      "0.07846886325091156\n",
      "index                                                               108837\n",
      "test                     BIKYAKU　＆　CO　疲れ知らずで美姿勢　はくだけでやせる不思議なサンダル　for　MEN,,\n",
      "review_number_to_zero    BIKYAKU　＆　CO　疲れ知らずで美姿勢　はくだけでやせる不思議なサンダル　for　MEN,,\n",
      "lsbw                            BIKYAKU CO 疲れ 知らず 美 姿勢 はく 不思議 サンダル for MEN\n",
      "Name: 108837, dtype: object\n",
      "-----\n",
      "-----\n",
      "-----\n",
      "-----\n",
      "index                                                                    5\n",
      "test                     賞与,国家公務員国家公務員に65万円ボーナス 昨冬より3万4100円減公務員に冬のボーナス ...\n",
      "review_number_to_zero    賞与,国家公務員国家公務員に0万円ボーナス 昨冬より0万0円減公務員に冬のボーナス 国家公務...\n",
      "lsbw                     賞与 国家公務員 国家公務員 0 万 円 ボーナス 昨冬 0 万 0円 減 公務員 冬のボー...\n",
      "Name: 182487, dtype: object\n",
      "-----\n",
      "0.28424607768747717\n",
      "index                                                  99357\n",
      "test                      ボーナス・トラック,山田章博worksニューリミックスヴァージョン,\n",
      "review_number_to_zero     ボーナス・トラック,山田章博worksニューリミックスヴァージョン,\n",
      "lsbw                     ボーナス・トラック 山田章博 works ニューリミックスヴァージョン\n",
      "Name: 99357, dtype: object\n",
      "-----\n",
      "0.2826160792025745\n",
      "index                                   120358\n",
      "test                     公務員国家公務員・地方初級（4）第3版,,\n",
      "review_number_to_zero    公務員国家公務員・地方初級（0）第0版,,\n",
      "lsbw                     公務員 国家公務員 地方 初級 0 0 版\n",
      "Name: 120358, dtype: object\n",
      "-----\n",
      "0.2826160792025745\n",
      "index                                   120358\n",
      "test                     公務員国家公務員・地方初級（4）第3版,,\n",
      "review_number_to_zero    公務員国家公務員・地方初級（0）第0版,,\n",
      "lsbw                     公務員 国家公務員 地方 初級 0 0 版\n",
      "Name: 120358, dtype: object\n",
      "-----\n",
      "-----\n",
      "-----\n",
      "-----\n",
      "index                                                                    6\n",
      "test                     Cyberpunk 2077,CD Projekt,PlayStation 4『サイバーパン...\n",
      "review_number_to_zero    Cyberpunk 0,CD Projekt,PlayStation 0『サイバーパンク0』...\n",
      "lsbw                     Cyberpunk 0 CD Projekt PlayStation 0 サイバーパンク 0...\n",
      "Name: 182488, dtype: object\n",
      "-----\n",
      "0.26660435349204475\n",
      "index                                                               159952\n",
      "test                     楽園追放rewired,サイバーパンクSF傑作選,劇場アニメ「楽園追放ーＥｘｐｅｌｌｅｄ　ｆ...\n",
      "review_number_to_zero    楽園追放rewired,サイバーパンクSF傑作選,劇場アニメ「楽園追放ーＥｘｐｅｌｌｅｄ　ｆ...\n",
      "lsbw                     楽園追放 rewired サイバーパンク SF 傑作 選 劇場アニメ 楽園追放 ー Ｅｘｐｅ...\n",
      "Name: 159952, dtype: object\n",
      "-----\n",
      "0.14822010020743548\n",
      "index                                       27433\n",
      "test                     ウメハラ,To　live　is　to　game,\n",
      "review_number_to_zero    ウメハラ,To　live　is　to　game,\n",
      "lsbw                      ウメハラ To LIVE IS TO game\n",
      "Name: 27433, dtype: object\n",
      "-----\n",
      "0.13889496125221026\n",
      "index                                                               100590\n",
      "test                     Listen　to　the　voice　of　the　earth,（英文版）地球の声に耳をす...\n",
      "review_number_to_zero    Listen　to　the　voice　of　the　earth,（英文版）地球の声に耳をす...\n",
      "lsbw                     Listen TO the THE of the EARTH 英文 版 地球 声 耳 ー 地...\n",
      "Name: 100590, dtype: object\n",
      "-----\n",
      "-----\n",
      "-----\n",
      "-----\n",
      "index                                                                    7\n",
      "test                     日本女子プロゴルフ協会,LPGA新人戦 加賀電子カップ,全米女子オープン...19歳安田祐香...\n",
      "review_number_to_zero    日本女子プロゴルフ協会,LPGA新人戦 加賀電子カップ,全米女子オープン...0歳安田祐香、...\n",
      "lsbw                     日本女子プロゴルフ協会 LPGA 新人戦 加賀電子 カップ 全米女子オープン 0歳 安田祐香...\n",
      "Name: 182489, dtype: object\n",
      "-----\n",
      "0.18791730829786196\n",
      "index                       160703\n",
      "test                     カップデザート,,\n",
      "review_number_to_zero    カップデザート,,\n",
      "lsbw                      カップ デザート\n",
      "Name: 160703, dtype: object\n",
      "-----\n",
      "0.10836565042135557\n",
      "index                                                                38920\n",
      "test                     GOLFという病に効く薬はない,,「なぜボビー・ジョーンズは引退したか」「全米オープン“４”...\n",
      "review_number_to_zero    GOLFという病に効く薬はない,,「なぜボビー・ジョーンズは引退したか」「全米オープン“0”...\n",
      "lsbw                     GOLF 病 薬 ボビー・ジョーンズ 引退 全米オープン 0 因縁 史 厳選 0 作品 収録...\n",
      "Name: 38920, dtype: object\n",
      "-----\n",
      "0.10425889210038643\n",
      "index                             180929\n",
      "test                     うで体ゴルフ・あし体ゴルフ,,\n",
      "review_number_to_zero    うで体ゴルフ・あし体ゴルフ,,\n",
      "lsbw                      体 ゴルフ あし 体 ゴルフ\n",
      "Name: 180929, dtype: object\n",
      "-----\n",
      "-----\n",
      "-----\n",
      "-----\n"
     ]
    },
    {
     "name": "stdout",
     "output_type": "stream",
     "text": [
      "index                                                                    8\n",
      "test                     高橋 茂雄,サバンナ,ドラゴン若手女優・加藤小夏が出演！ドラゴンに扮したサバンナ高橋とゆる～...\n",
      "review_number_to_zero    高橋 茂雄,サバンナ,ドラゴン若手女優・加藤小夏が出演！ドラゴンに扮したサバンナ高橋とゆる～...\n",
      "lsbw                     高橋 茂雄 サバンナ ドラゴン 若手女優 加藤小夏 出演 ドラゴン 扮 サバンナ高橋 ゲーム...\n",
      "Name: 182490, dtype: object\n",
      "-----\n",
      "0.2539877811406617\n",
      "index                         23988\n",
      "test                     赤い目のドラゴン,,\n",
      "review_number_to_zero    赤い目のドラゴン,,\n",
      "lsbw                         目 ドラゴン\n",
      "Name: 23988, dtype: object\n",
      "-----\n",
      "0.19636625978898611\n",
      "index                                                                18637\n",
      "test                     ドラゴンはキャプテン,,たいへん！ドラゴンがさらわれて、「かえしてほしければ、雨をふらすじゅ...\n",
      "review_number_to_zero    ドラゴンはキャプテン,,たいへん！ドラゴンがさらわれて、「かえしてほしければ、雨をふらすじゅ...\n",
      "lsbw                     ドラゴン キャプテン ドラゴン 雨 じゅもん でんわ だれ ドラゴン どこ なかよし きい ...\n",
      "Name: 18637, dtype: object\n",
      "-----\n",
      "0.19293382864516478\n",
      "index                                                                 7088\n",
      "test                     萌える！ドラゴン事典,,恐るべき「ドラゴン」と偉大な「世界蛇」総勢９９体をご紹介！世界各地の...\n",
      "review_number_to_zero    萌える！ドラゴン事典,,恐るべき「ドラゴン」と偉大な「世界蛇」総勢0体をご紹介！世界各地の神...\n",
      "lsbw                     ドラゴン 事典 ドラゴン 偉大 世界 蛇 総勢 0 体 ご 紹介 世界各地 神話 伝承 登場...\n",
      "Name: 7088, dtype: object\n",
      "-----\n",
      "-----\n",
      "-----\n",
      "-----\n",
      "index                                                                    9\n",
      "test                     ふたご座流星群,ふたご座12月12日～14日 ふたご座流星群を観よう！週間天気来週は強い寒気...\n",
      "review_number_to_zero    ふたご座流星群,ふたご座0月0日～0日 ふたご座流星群を観よう！週間天気来週は強い寒気が南下...\n",
      "lsbw                     ふたご座流星群 ふたご座 0 月 0 日 0 日 ふたご座流星群 週間 天気 来週 寒気 南...\n",
      "Name: 182491, dtype: object\n",
      "-----\n",
      "0.19434140000463287\n",
      "index                                                                62956\n",
      "test                     まんがでわかる天気痛の治し方,気圧による不調をズバッと解決！,雨が降る前に頭が痛い。梅雨の時...\n",
      "review_number_to_zero    まんがでわかる天気痛の治し方,気圧による不調をズバッと解決！,雨が降る前に頭が痛い。梅雨の時...\n",
      "lsbw                     まんがでわかる 天気 痛 方 気圧 不調 解決 雨 前 頭 梅雨 時期 気分 落ち込み がち...\n",
      "Name: 62956, dtype: object\n",
      "-----\n",
      "0.18205927694887097\n",
      "index                                  3263\n",
      "test                     めくって発見！地球と天気の絵事典,,\n",
      "review_number_to_zero    めくって発見！地球と天気の絵事典,,\n",
      "lsbw                          発見 地球 天気 絵 事典\n",
      "Name: 3263, dtype: object\n",
      "-----\n",
      "0.18070014977943455\n",
      "index                            179557\n",
      "test                     カレンダー日本の天気改版,,\n",
      "review_number_to_zero    カレンダー日本の天気改版,,\n",
      "lsbw                      カレンダ 日本 天気 改版\n",
      "Name: 179557, dtype: object\n",
      "-----\n",
      "-----\n",
      "-----\n",
      "-----\n",
      "index                                                                   10\n",
      "test                     中川 大志,フジテレビジョン,TOKIOカケル,松岡 昌宏,山本舞香...中川大志、虫嫌いで...\n",
      "review_number_to_zero    中川 大志,フジテレビジョン,TOKIOカケル,松岡 昌宏,山本舞香...中川大志、虫嫌いで...\n",
      "lsbw                     中川 大志 フジテレビジョン TOKIOカケル 松岡 昌宏 山本舞香 中川大志 虫嫌い 父親...\n",
      "Name: 182492, dtype: object\n",
      "-----\n",
      "0.14815201468225894\n",
      "index                                     171486\n",
      "test                     山本舞香　ファースト写真集　サニー／ムーン,,\n",
      "review_number_to_zero    山本舞香　ファースト写真集　サニー／ムーン,,\n",
      "lsbw                       山本舞香 ファースト写真集 サニー ムーン\n",
      "Name: 171486, dtype: object\n",
      "-----\n",
      "0.06338908522744391\n",
      "index                                        85197\n",
      "test                     俺が時代を創る理由,俳優・木村拓哉の守護霊トーク,\n",
      "review_number_to_zero    俺が時代を創る理由,俳優・木村拓哉の守護霊トーク,\n",
      "lsbw                       俺 時代 理由 俳優 木村拓哉 守護霊 トーク\n",
      "Name: 85197, dtype: object\n",
      "-----\n",
      "0.0630577699630897\n",
      "index                            154328\n",
      "test                      flap,比嘉愛未写真集,\n",
      "review_number_to_zero     flap,比嘉愛未写真集,\n",
      "lsbw                     flap 比嘉愛 未 写真集\n",
      "Name: 154328, dtype: object\n",
      "-----\n",
      "-----\n",
      "-----\n",
      "-----\n",
      "index                                                                   11\n",
      "test                     ペ・ヨンジュン,パク・スジン,Instagram...工藤静香\\n竹内結子\\nこのマンガがす...\n",
      "review_number_to_zero    ペ・ヨンジュン,パク・スジン,Instagram...工藤静香\\n竹内結子\\nこのマンガがす...\n",
      "lsbw                     ペ・ヨンジュン パク・スジン Instagram 工藤静香 竹内結子 このマンガがすごい 0...\n",
      "Name: 182493, dtype: object\n",
      "-----\n",
      "0.15412672607161423\n",
      "index                          1798\n",
      "test                     星をのんだかじ屋,,\n",
      "review_number_to_zero    星をのんだかじ屋,,\n",
      "lsbw                          星 鍛冶屋\n",
      "Name: 1798, dtype: object\n",
      "-----\n",
      "0.15093166585783055\n",
      "index                                                                49102\n",
      "test                     ゼロからはじめるインスタグラムInstagram,,いちばんやさしい入門書です！インスタグラ...\n",
      "review_number_to_zero    ゼロからはじめるインスタグラムInstagram,,いちばんやさしい入門書です！インスタグラ...\n",
      "lsbw                     ゼロ Instagram Instagram いちばん 入門書 Instagram 使い方 ...\n",
      "Name: 49102, dtype: object\n",
      "-----\n",
      "0.10940462718758194\n",
      "index                                                               135834\n",
      "test                     大人のための LINE Facebook Twitter Instagram パーフェクトガ...\n",
      "review_number_to_zero    大人のための LINE Facebook Twitter Instagram パーフェクトガ...\n",
      "lsbw                     大人 ため LINE Facebook Twitter Instagram パーフェクト ガ...\n",
      "Name: 135834, dtype: object\n",
      "-----\n",
      "-----\n",
      "-----\n",
      "-----\n",
      "index                                                                   12\n",
      "test                     平子理沙,Instagram「ジョジョに出て来そう」「めっちゃエキゾチック」 ..........\n",
      "review_number_to_zero    平子理沙,Instagram「ジョジョに出て来そう」「めっちゃエキゾチック」 ..........\n",
      "lsbw                     平子理沙 Instagram 徐々 エキゾチック しまむら チラシ 工藤静香 高見沢俊彦 木...\n",
      "Name: 182494, dtype: object\n",
      "-----\n",
      "0.2532926013075344\n",
      "index                                                                49102\n",
      "test                     ゼロからはじめるインスタグラムInstagram,,いちばんやさしい入門書です！インスタグラ...\n",
      "review_number_to_zero    ゼロからはじめるインスタグラムInstagram,,いちばんやさしい入門書です！インスタグラ...\n",
      "lsbw                     ゼロ Instagram Instagram いちばん 入門書 Instagram 使い方 ...\n",
      "Name: 49102, dtype: object\n",
      "-----\n",
      "0.18780250430956766\n",
      "index                                                                32733\n",
      "test                     今すぐ使えるかんたんmini　Instagram インスタグラム はじめる＆楽しむ ガイドブ...\n",
      "review_number_to_zero    今すぐ使えるかんたんmini　Instagram インスタグラム はじめる＆楽しむ ガイドブ...\n",
      "lsbw                     今すぐ 簡単 mini Instagram Instagram ガイドブック 改訂 0 版 ...\n",
      "Name: 32733, dtype: object\n",
      "-----\n",
      "0.14891798003193418\n",
      "index                                                                19180\n",
      "test                     インスタグラム商品写真の撮り方ガイド,,人気写真家が写し出す。ＳＮＳで魅せる＆映える撮影テク...\n",
      "review_number_to_zero    インスタグラム商品写真の撮り方ガイド,,人気写真家が写し出す。ＳＮＳで魅せる＆映える撮影テク...\n",
      "lsbw                     Instagram 商品 写真 撮り方 ガイド 人気 写真家 SNS 撮影 テクニック 写真...\n",
      "Name: 19180, dtype: object\n",
      "-----\n",
      "-----\n",
      "-----\n",
      "-----\n",
      "index                                                                   13\n",
      "test                     スピードワゴン,小沢一敬「ひとりが寂しい男を演じてるだけ」スピードワゴン・小沢さんの恋愛論 ...\n",
      "review_number_to_zero    スピードワゴン,小沢一敬「ひとりが寂しい男を演じてるだけ」スピードワゴン・小沢さんの恋愛論 ...\n",
      "lsbw                     SPEED 小沢一敬 ひとり 男 スピードワゴン 小沢さん 恋愛論 友達 いない 自分 スピ...\n",
      "Name: 182495, dtype: object\n",
      "-----\n",
      "0.13141888494121254\n",
      "index                               12972\n",
      "test                     いない　いない　ばあ　（1）,,\n",
      "review_number_to_zero    いない　いない　ばあ　（0）,,\n",
      "lsbw                            いない いない 0\n",
      "Name: 12972, dtype: object\n",
      "-----\n",
      "0.13141888494121254\n",
      "index                               12972\n",
      "test                     いない　いない　ばあ　（1）,,\n",
      "review_number_to_zero    いない　いない　ばあ　（0）,,\n",
      "lsbw                            いない いない 0\n",
      "Name: 12972, dtype: object\n",
      "-----\n",
      "0.13141888494121254\n",
      "index                               12972\n",
      "test                     いない　いない　ばあ　（1）,,\n",
      "review_number_to_zero    いない　いない　ばあ　（0）,,\n",
      "lsbw                            いない いない 0\n",
      "Name: 12972, dtype: object\n",
      "-----\n",
      "-----\n",
      "-----\n",
      "-----\n",
      "index                                                                   14\n",
      "test                     ケイト,カネボウ化粧品ケイトが小顔効果を備えたマスクを発売、肌を明るく引き立てる4色展開.....\n",
      "review_number_to_zero    ケイト,カネボウ化粧品ケイトが小顔効果を備えたマスクを発売、肌を明るく引き立てる0色展開.....\n",
      "lsbw                     ケイト カネボウ化粧品 ケイト 小顔 効果 マスク 発売 肌 0 色 展開 カネボウ 若者向...\n",
      "Name: 182496, dtype: object\n",
      "-----\n",
      "0.5418706484042048\n",
      "index                          13257\n",
      "test                     マスクを　とったら,,\n",
      "review_number_to_zero    マスクを　とったら,,\n",
      "lsbw                             マスク\n",
      "Name: 13257, dtype: object\n",
      "-----\n",
      "0.4406497845663807\n",
      "index                                                                19105\n",
      "test                     ひめちゃんのマスク,,「この店にもないんですか？もう何軒もまわってるのよ」マスクがほしい！で...\n",
      "review_number_to_zero    ひめちゃんのマスク,,「この店にもないんですか？もう何軒もまわってるのよ」マスクがほしい！で...\n",
      "lsbw                                        ん マスク 店 ん 何 軒 マスク 女の子 行動 実話 絵本\n",
      "Name: 19105, dtype: object\n",
      "-----\n",
      "0.4313329859486765\n",
      "index                               76506\n",
      "test                     マスク男子は恋したくないのに,,\n",
      "review_number_to_zero    マスク男子は恋したくないのに,,\n",
      "lsbw                               マスク 男子\n",
      "Name: 76506, dtype: object\n",
      "-----\n",
      "-----\n",
      "-----\n",
      "-----\n"
     ]
    }
   ],
   "source": [
    "base = 182482\n",
    "for u in trend_target:\n",
    "    similarity = cosine_similarity(u, trend_items)\n",
    "    aaa = similarity[0].tolist()\n",
    "    print(df3.iloc[base, :])\n",
    "    print('-----')\n",
    "    for v in range(-1,-4,-1):\n",
    "        max_value = sorted(aaa)[v]\n",
    "        max_index = aaa.index(max_value)\n",
    "        print(max_value)\n",
    "        print(df3.iloc[max_index, :])\n",
    "        print('-----')\n",
    "    print('-----')\n",
    "    print('-----')\n",
    "    print('-----')\n",
    "    base = base + 1"
   ]
  },
  {
   "cell_type": "markdown",
   "metadata": {},
   "source": [
    "## 現状の課題"
   ]
  },
  {
   "cell_type": "markdown",
   "metadata": {},
   "source": [
    "- 商品総数が10万件しかない為、微妙なコンテンツがヒットしやすい<br>→ 楽天から取得する商品数は100万件ぐらいまでは増やすことができるので、商品数を増やして結果を見てみる\n",
    "- アブストが入っていない商品が多く、情報量が少ない<br>→ 商品数増やして何とかなるならいいが・・・。誤抽出しても問題ないような見せ方が必要"
   ]
  }
 ],
 "metadata": {
  "kernelspec": {
   "display_name": "Python 3",
   "language": "python",
   "name": "python3"
  },
  "language_info": {
   "codemirror_mode": {
    "name": "ipython",
    "version": 3
   },
   "file_extension": ".py",
   "mimetype": "text/x-python",
   "name": "python",
   "nbconvert_exporter": "python",
   "pygments_lexer": "ipython3",
   "version": "3.8.5"
  }
 },
 "nbformat": 4,
 "nbformat_minor": 2
}
